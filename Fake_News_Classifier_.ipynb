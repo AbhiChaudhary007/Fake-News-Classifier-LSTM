{
  "nbformat": 4,
  "nbformat_minor": 0,
  "metadata": {
    "kernelspec": {
      "display_name": "Python 3",
      "language": "python",
      "name": "python3"
    },
    "language_info": {
      "codemirror_mode": {
        "name": "ipython",
        "version": 3
      },
      "file_extension": ".py",
      "mimetype": "text/x-python",
      "name": "python",
      "nbconvert_exporter": "python",
      "pygments_lexer": "ipython3",
      "version": "3.8.3"
    },
    "colab": {
      "name": "Fake News Classifier .ipynb",
      "provenance": []
    },
    "accelerator": "GPU"
  },
  "cells": [
    {
      "cell_type": "code",
      "metadata": {
        "ExecuteTime": {
          "end_time": "2021-05-15T07:38:23.158250Z",
          "start_time": "2021-05-15T07:38:18.098745Z"
        },
        "id": "EImscHUd_gbj"
      },
      "source": [
        "import pandas as pd\n",
        "from tensorflow.keras.layers import LSTM,Dense,Dropout,Embedding\n",
        "from tensorflow.keras.models import Sequential\n",
        "from tensorflow.keras.preprocessing.text import one_hot\n",
        "from tensorflow.keras.preprocessing.sequence import pad_sequences\n",
        "from nltk.corpus import stopwords\n",
        "from nltk.stem import WordNetLemmatizer\n",
        "from sklearn.model_selection import train_test_split\n",
        "import re\n",
        "import numpy as np"
      ],
      "execution_count": 23,
      "outputs": []
    },
    {
      "cell_type": "code",
      "metadata": {
        "colab": {
          "base_uri": "https://localhost:8080/"
        },
        "id": "z11jsBARBcKZ",
        "outputId": "635ee380-0683-4fe6-83fd-785adf41f54b"
      },
      "source": [
        "import nltk\n",
        "nltk.download('stopwords')\n",
        "nltk.download('wordnet')"
      ],
      "execution_count": 5,
      "outputs": [
        {
          "output_type": "stream",
          "text": [
            "[nltk_data] Downloading package stopwords to /root/nltk_data...\n",
            "[nltk_data]   Package stopwords is already up-to-date!\n",
            "[nltk_data] Downloading package wordnet to /root/nltk_data...\n",
            "[nltk_data]   Package wordnet is already up-to-date!\n"
          ],
          "name": "stdout"
        },
        {
          "output_type": "execute_result",
          "data": {
            "text/plain": [
              "True"
            ]
          },
          "metadata": {
            "tags": []
          },
          "execution_count": 5
        }
      ]
    },
    {
      "cell_type": "code",
      "metadata": {
        "ExecuteTime": {
          "end_time": "2021-05-15T07:38:24.559307Z",
          "start_time": "2021-05-15T07:38:23.158250Z"
        },
        "id": "rBYNv17T_gbn"
      },
      "source": [
        "url = 'Fake.csv'\n",
        "data = pd.read_csv(url)"
      ],
      "execution_count": 6,
      "outputs": []
    },
    {
      "cell_type": "code",
      "metadata": {
        "ExecuteTime": {
          "end_time": "2021-05-15T07:38:24.593324Z",
          "start_time": "2021-05-15T07:38:24.559307Z"
        },
        "colab": {
          "base_uri": "https://localhost:8080/"
        },
        "id": "58VcAuQD_gbo",
        "outputId": "95487d32-4cc5-49ec-d9db-d95164340983"
      },
      "source": [
        "data.shape"
      ],
      "execution_count": 7,
      "outputs": [
        {
          "output_type": "execute_result",
          "data": {
            "text/plain": [
              "(20800, 5)"
            ]
          },
          "metadata": {
            "tags": []
          },
          "execution_count": 7
        }
      ]
    },
    {
      "cell_type": "code",
      "metadata": {
        "ExecuteTime": {
          "end_time": "2021-05-15T07:38:24.627641Z",
          "start_time": "2021-05-15T07:38:24.593324Z"
        },
        "colab": {
          "base_uri": "https://localhost:8080/"
        },
        "id": "p871T-ou_gbq",
        "outputId": "c343397d-8c88-48d7-fb99-95a50a6649d2"
      },
      "source": [
        "data.isnull().sum()"
      ],
      "execution_count": 8,
      "outputs": [
        {
          "output_type": "execute_result",
          "data": {
            "text/plain": [
              "id           0\n",
              "title      558\n",
              "author    1957\n",
              "text        39\n",
              "label        0\n",
              "dtype: int64"
            ]
          },
          "metadata": {
            "tags": []
          },
          "execution_count": 8
        }
      ]
    },
    {
      "cell_type": "code",
      "metadata": {
        "ExecuteTime": {
          "end_time": "2021-05-15T07:38:24.659646Z",
          "start_time": "2021-05-15T07:38:24.630603Z"
        },
        "id": "jm8wV5FY_gbq"
      },
      "source": [
        "data.dropna(inplace=True)"
      ],
      "execution_count": 9,
      "outputs": []
    },
    {
      "cell_type": "code",
      "metadata": {
        "ExecuteTime": {
          "end_time": "2021-05-15T07:38:24.689478Z",
          "start_time": "2021-05-15T07:38:24.661641Z"
        },
        "colab": {
          "base_uri": "https://localhost:8080/"
        },
        "id": "TxlqoCDL_gbr",
        "outputId": "d2dd1213-4975-44f9-fd7c-a70a1459cb9f"
      },
      "source": [
        "data.isnull().sum()"
      ],
      "execution_count": 10,
      "outputs": [
        {
          "output_type": "execute_result",
          "data": {
            "text/plain": [
              "id        0\n",
              "title     0\n",
              "author    0\n",
              "text      0\n",
              "label     0\n",
              "dtype: int64"
            ]
          },
          "metadata": {
            "tags": []
          },
          "execution_count": 10
        }
      ]
    },
    {
      "cell_type": "code",
      "metadata": {
        "ExecuteTime": {
          "end_time": "2021-05-15T07:38:24.704640Z",
          "start_time": "2021-05-15T07:38:24.689478Z"
        },
        "colab": {
          "base_uri": "https://localhost:8080/"
        },
        "id": "NBs6GDir_gbr",
        "outputId": "1ac5072c-f3ba-42e5-bbc0-64c45648d5a5"
      },
      "source": [
        "data.shape"
      ],
      "execution_count": 11,
      "outputs": [
        {
          "output_type": "execute_result",
          "data": {
            "text/plain": [
              "(18285, 5)"
            ]
          },
          "metadata": {
            "tags": []
          },
          "execution_count": 11
        }
      ]
    },
    {
      "cell_type": "code",
      "metadata": {
        "ExecuteTime": {
          "end_time": "2021-05-15T07:38:24.739709Z",
          "start_time": "2021-05-15T07:38:24.708638Z"
        },
        "colab": {
          "base_uri": "https://localhost:8080/",
          "height": 194
        },
        "id": "OdJMyC-v_gbs",
        "outputId": "42a2f235-c12e-4bfe-da0f-14135c63fc82"
      },
      "source": [
        "data.head()"
      ],
      "execution_count": 12,
      "outputs": [
        {
          "output_type": "execute_result",
          "data": {
            "text/html": [
              "<div>\n",
              "<style scoped>\n",
              "    .dataframe tbody tr th:only-of-type {\n",
              "        vertical-align: middle;\n",
              "    }\n",
              "\n",
              "    .dataframe tbody tr th {\n",
              "        vertical-align: top;\n",
              "    }\n",
              "\n",
              "    .dataframe thead th {\n",
              "        text-align: right;\n",
              "    }\n",
              "</style>\n",
              "<table border=\"1\" class=\"dataframe\">\n",
              "  <thead>\n",
              "    <tr style=\"text-align: right;\">\n",
              "      <th></th>\n",
              "      <th>id</th>\n",
              "      <th>title</th>\n",
              "      <th>author</th>\n",
              "      <th>text</th>\n",
              "      <th>label</th>\n",
              "    </tr>\n",
              "  </thead>\n",
              "  <tbody>\n",
              "    <tr>\n",
              "      <th>0</th>\n",
              "      <td>0</td>\n",
              "      <td>House Dem Aide: We Didn’t Even See Comey’s Let...</td>\n",
              "      <td>Darrell Lucus</td>\n",
              "      <td>House Dem Aide: We Didn’t Even See Comey’s Let...</td>\n",
              "      <td>1</td>\n",
              "    </tr>\n",
              "    <tr>\n",
              "      <th>1</th>\n",
              "      <td>1</td>\n",
              "      <td>FLYNN: Hillary Clinton, Big Woman on Campus - ...</td>\n",
              "      <td>Daniel J. Flynn</td>\n",
              "      <td>Ever get the feeling your life circles the rou...</td>\n",
              "      <td>0</td>\n",
              "    </tr>\n",
              "    <tr>\n",
              "      <th>2</th>\n",
              "      <td>2</td>\n",
              "      <td>Why the Truth Might Get You Fired</td>\n",
              "      <td>Consortiumnews.com</td>\n",
              "      <td>Why the Truth Might Get You Fired October 29, ...</td>\n",
              "      <td>1</td>\n",
              "    </tr>\n",
              "    <tr>\n",
              "      <th>3</th>\n",
              "      <td>3</td>\n",
              "      <td>15 Civilians Killed In Single US Airstrike Hav...</td>\n",
              "      <td>Jessica Purkiss</td>\n",
              "      <td>Videos 15 Civilians Killed In Single US Airstr...</td>\n",
              "      <td>1</td>\n",
              "    </tr>\n",
              "    <tr>\n",
              "      <th>4</th>\n",
              "      <td>4</td>\n",
              "      <td>Iranian woman jailed for fictional unpublished...</td>\n",
              "      <td>Howard Portnoy</td>\n",
              "      <td>Print \\nAn Iranian woman has been sentenced to...</td>\n",
              "      <td>1</td>\n",
              "    </tr>\n",
              "  </tbody>\n",
              "</table>\n",
              "</div>"
            ],
            "text/plain": [
              "   id  ... label\n",
              "0   0  ...     1\n",
              "1   1  ...     0\n",
              "2   2  ...     1\n",
              "3   3  ...     1\n",
              "4   4  ...     1\n",
              "\n",
              "[5 rows x 5 columns]"
            ]
          },
          "metadata": {
            "tags": []
          },
          "execution_count": 12
        }
      ]
    },
    {
      "cell_type": "code",
      "metadata": {
        "ExecuteTime": {
          "end_time": "2021-05-15T07:38:24.974928Z",
          "start_time": "2021-05-15T07:38:24.959628Z"
        },
        "id": "RL2qbm4H_gbt"
      },
      "source": [
        "sw = stopwords.words('english')\n",
        "lem = WordNetLemmatizer()\n",
        "def clean_data(text):\n",
        "    text = text.lower()\n",
        "    text = re.sub(r'[^a-zA-Z]',' ',text)\n",
        "    text = re.sub(r'\\b\\w{1,2}\\b','',text)\n",
        "    text = re.sub(r'[\\s+]',' ',text)\n",
        "    text = ' '.join(lem.lemmatize(word) for word in text.split() if not word in sw)\n",
        "    return text"
      ],
      "execution_count": 13,
      "outputs": []
    },
    {
      "cell_type": "code",
      "metadata": {
        "ExecuteTime": {
          "end_time": "2021-05-15T07:40:20.128029Z",
          "start_time": "2021-05-15T07:38:24.974928Z"
        },
        "id": "7EaJ30BB_gbu"
      },
      "source": [
        "l=[]\n",
        "for i in data.title.apply(lambda x : clean_data(x)):\n",
        "  l.append(i)"
      ],
      "execution_count": 14,
      "outputs": []
    },
    {
      "cell_type": "code",
      "metadata": {
        "ExecuteTime": {
          "start_time": "2021-05-15T07:38:18.122Z"
        },
        "colab": {
          "base_uri": "https://localhost:8080/"
        },
        "id": "-f137npd_gbu",
        "outputId": "1b9b29e3-08e1-4d02-eae0-bf62840f4011"
      },
      "source": [
        "voc_size = 5000\n",
        "total = [one_hot(word,voc_size) for word in l]\n",
        "len(total[0])"
      ],
      "execution_count": 16,
      "outputs": [
        {
          "output_type": "execute_result",
          "data": {
            "text/plain": [
              "10"
            ]
          },
          "metadata": {
            "tags": []
          },
          "execution_count": 16
        }
      ]
    },
    {
      "cell_type": "code",
      "metadata": {
        "ExecuteTime": {
          "start_time": "2021-05-15T07:39:07.619Z"
        },
        "colab": {
          "base_uri": "https://localhost:8080/"
        },
        "id": "SIv_QhhV_gbv",
        "outputId": "e93b9968-9e95-445f-9602-1f6840011a7b"
      },
      "source": [
        "sequence = pad_sequences(total, padding = 'pre', maxlen = 20)\n",
        "sequence"
      ],
      "execution_count": 41,
      "outputs": [
        {
          "output_type": "execute_result",
          "data": {
            "text/plain": [
              "array([[   0,    0,    0, ..., 3235,   43, 2149],\n",
              "       [   0,    0,    0, ..., 2011, 3983,   25],\n",
              "       [   0,    0,    0, ..., 4189, 2576, 4990],\n",
              "       ...,\n",
              "       [   0,    0,    0, ...,  153, 3238,   31],\n",
              "       [   0,    0,    0, ...,  747, 2577, 4751],\n",
              "       [   0,    0,    0, ...,    0, 1483, 1383]], dtype=int32)"
            ]
          },
          "metadata": {
            "tags": []
          },
          "execution_count": 41
        }
      ]
    },
    {
      "cell_type": "code",
      "metadata": {
        "id": "6Udk6zsuIt8O"
      },
      "source": [
        "y = np.array(data.label)"
      ],
      "execution_count": 42,
      "outputs": []
    },
    {
      "cell_type": "code",
      "metadata": {
        "colab": {
          "base_uri": "https://localhost:8080/"
        },
        "id": "T8i-8XKM_gbv",
        "outputId": "6532219f-9313-4255-83a7-85ae39d438d9"
      },
      "source": [
        "model = Sequential()\n",
        "\n",
        "model.add(Embedding(voc_size,40,input_length=20))\n",
        "model.add(Dropout(0.2))\n",
        "model.add(LSTM(100))\n",
        "model.add(Dropout(0.2))\n",
        "model.add(Dense(1,activation='sigmoid'))\n",
        "\n",
        "model.compile(optimizer = 'adam',\n",
        "              loss='binary_crossentropy',\n",
        "              metrics=['accuracy'])\n",
        "\n",
        "model.summary()"
      ],
      "execution_count": 50,
      "outputs": [
        {
          "output_type": "stream",
          "text": [
            "Model: \"sequential_4\"\n",
            "_________________________________________________________________\n",
            "Layer (type)                 Output Shape              Param #   \n",
            "=================================================================\n",
            "embedding_4 (Embedding)      (None, 20, 40)            200000    \n",
            "_________________________________________________________________\n",
            "dropout_8 (Dropout)          (None, 20, 40)            0         \n",
            "_________________________________________________________________\n",
            "lstm_4 (LSTM)                (None, 100)               56400     \n",
            "_________________________________________________________________\n",
            "dropout_9 (Dropout)          (None, 100)               0         \n",
            "_________________________________________________________________\n",
            "dense_4 (Dense)              (None, 1)                 101       \n",
            "=================================================================\n",
            "Total params: 256,501\n",
            "Trainable params: 256,501\n",
            "Non-trainable params: 0\n",
            "_________________________________________________________________\n"
          ],
          "name": "stdout"
        }
      ]
    },
    {
      "cell_type": "code",
      "metadata": {
        "id": "NB3JFkogBauM"
      },
      "source": [
        "X_train,X_test,y_train,y_test = train_test_split(sequence,y,test_size=0.3,random_state=42)"
      ],
      "execution_count": 51,
      "outputs": []
    },
    {
      "cell_type": "code",
      "metadata": {
        "colab": {
          "base_uri": "https://localhost:8080/"
        },
        "id": "v9QN-m1cIdgB",
        "outputId": "2fdd9c70-0715-4aa4-dd74-ab45d1a652b0"
      },
      "source": [
        "result = model.fit(X_train,y_train,\n",
        "                   epochs=100,\n",
        "                   batch_size=64,\n",
        "                   verbose=2,\n",
        "                   validation_data = (X_test,y_test))"
      ],
      "execution_count": 53,
      "outputs": [
        {
          "output_type": "stream",
          "text": [
            "Epoch 1/100\n",
            "200/200 - 34s - loss: 0.3496 - accuracy: 0.8370 - val_loss: 0.2092 - val_accuracy: 0.9134\n",
            "Epoch 2/100\n",
            "200/200 - 1s - loss: 0.1465 - accuracy: 0.9412 - val_loss: 0.1973 - val_accuracy: 0.9163\n",
            "Epoch 3/100\n",
            "200/200 - 1s - loss: 0.1012 - accuracy: 0.9633 - val_loss: 0.2591 - val_accuracy: 0.9182\n",
            "Epoch 4/100\n",
            "200/200 - 1s - loss: 0.0786 - accuracy: 0.9729 - val_loss: 0.2500 - val_accuracy: 0.9127\n",
            "Epoch 5/100\n",
            "200/200 - 1s - loss: 0.0605 - accuracy: 0.9801 - val_loss: 0.3198 - val_accuracy: 0.9079\n",
            "Epoch 6/100\n",
            "200/200 - 1s - loss: 0.0502 - accuracy: 0.9841 - val_loss: 0.3399 - val_accuracy: 0.9076\n",
            "Epoch 7/100\n",
            "200/200 - 1s - loss: 0.0336 - accuracy: 0.9898 - val_loss: 0.3865 - val_accuracy: 0.9019\n",
            "Epoch 8/100\n",
            "200/200 - 1s - loss: 0.0250 - accuracy: 0.9926 - val_loss: 0.3776 - val_accuracy: 0.9081\n",
            "Epoch 9/100\n",
            "200/200 - 1s - loss: 0.0242 - accuracy: 0.9927 - val_loss: 0.4202 - val_accuracy: 0.9072\n",
            "Epoch 10/100\n",
            "200/200 - 1s - loss: 0.0167 - accuracy: 0.9950 - val_loss: 0.5765 - val_accuracy: 0.9007\n",
            "Epoch 11/100\n",
            "200/200 - 1s - loss: 0.0135 - accuracy: 0.9966 - val_loss: 0.4963 - val_accuracy: 0.9061\n",
            "Epoch 12/100\n",
            "200/200 - 1s - loss: 0.0116 - accuracy: 0.9966 - val_loss: 0.4982 - val_accuracy: 0.9067\n",
            "Epoch 13/100\n",
            "200/200 - 1s - loss: 0.0099 - accuracy: 0.9970 - val_loss: 0.6523 - val_accuracy: 0.9087\n",
            "Epoch 14/100\n",
            "200/200 - 1s - loss: 0.0064 - accuracy: 0.9977 - val_loss: 0.5655 - val_accuracy: 0.8999\n",
            "Epoch 15/100\n",
            "200/200 - 1s - loss: 0.0051 - accuracy: 0.9987 - val_loss: 0.6874 - val_accuracy: 0.9032\n",
            "Epoch 16/100\n",
            "200/200 - 1s - loss: 0.0069 - accuracy: 0.9977 - val_loss: 0.5987 - val_accuracy: 0.9014\n",
            "Epoch 17/100\n",
            "200/200 - 1s - loss: 0.0053 - accuracy: 0.9981 - val_loss: 0.7446 - val_accuracy: 0.9014\n",
            "Epoch 18/100\n",
            "200/200 - 1s - loss: 0.0047 - accuracy: 0.9987 - val_loss: 0.6663 - val_accuracy: 0.8928\n",
            "Epoch 19/100\n",
            "200/200 - 1s - loss: 0.0074 - accuracy: 0.9979 - val_loss: 0.6857 - val_accuracy: 0.8976\n",
            "Epoch 20/100\n",
            "200/200 - 1s - loss: 0.0063 - accuracy: 0.9979 - val_loss: 0.5414 - val_accuracy: 0.8994\n",
            "Epoch 21/100\n",
            "200/200 - 1s - loss: 0.0043 - accuracy: 0.9988 - val_loss: 0.6496 - val_accuracy: 0.9043\n",
            "Epoch 22/100\n",
            "200/200 - 1s - loss: 0.0039 - accuracy: 0.9987 - val_loss: 0.7833 - val_accuracy: 0.9028\n",
            "Epoch 23/100\n",
            "200/200 - 1s - loss: 0.0021 - accuracy: 0.9991 - val_loss: 0.8726 - val_accuracy: 0.9034\n",
            "Epoch 24/100\n",
            "200/200 - 1s - loss: 0.0019 - accuracy: 0.9995 - val_loss: 0.8761 - val_accuracy: 0.8959\n",
            "Epoch 25/100\n",
            "200/200 - 1s - loss: 0.0014 - accuracy: 0.9998 - val_loss: 0.8163 - val_accuracy: 0.8966\n",
            "Epoch 26/100\n",
            "200/200 - 1s - loss: 0.0031 - accuracy: 0.9991 - val_loss: 0.8385 - val_accuracy: 0.8939\n",
            "Epoch 27/100\n",
            "200/200 - 1s - loss: 0.0038 - accuracy: 0.9989 - val_loss: 0.7457 - val_accuracy: 0.8997\n",
            "Epoch 28/100\n",
            "200/200 - 1s - loss: 0.0053 - accuracy: 0.9984 - val_loss: 0.6949 - val_accuracy: 0.8988\n",
            "Epoch 29/100\n",
            "200/200 - 1s - loss: 0.0020 - accuracy: 0.9994 - val_loss: 0.8584 - val_accuracy: 0.8992\n",
            "Epoch 30/100\n",
            "200/200 - 1s - loss: 0.0013 - accuracy: 0.9997 - val_loss: 0.8896 - val_accuracy: 0.9005\n",
            "Epoch 31/100\n",
            "200/200 - 1s - loss: 0.0035 - accuracy: 0.9987 - val_loss: 0.7169 - val_accuracy: 0.8935\n",
            "Epoch 32/100\n",
            "200/200 - 1s - loss: 0.0045 - accuracy: 0.9985 - val_loss: 0.7013 - val_accuracy: 0.8977\n",
            "Epoch 33/100\n",
            "200/200 - 1s - loss: 0.0013 - accuracy: 0.9995 - val_loss: 0.7704 - val_accuracy: 0.8961\n",
            "Epoch 34/100\n",
            "200/200 - 1s - loss: 9.9693e-04 - accuracy: 0.9998 - val_loss: 0.7736 - val_accuracy: 0.9010\n",
            "Epoch 35/100\n",
            "200/200 - 1s - loss: 0.0014 - accuracy: 0.9996 - val_loss: 0.7690 - val_accuracy: 0.8999\n",
            "Epoch 36/100\n",
            "200/200 - 1s - loss: 2.9436e-04 - accuracy: 1.0000 - val_loss: 0.9088 - val_accuracy: 0.9014\n",
            "Epoch 37/100\n",
            "200/200 - 1s - loss: 4.8196e-04 - accuracy: 0.9999 - val_loss: 0.8916 - val_accuracy: 0.8966\n",
            "Epoch 38/100\n",
            "200/200 - 1s - loss: 0.0011 - accuracy: 0.9997 - val_loss: 0.8279 - val_accuracy: 0.8945\n",
            "Epoch 39/100\n",
            "200/200 - 1s - loss: 0.0028 - accuracy: 0.9991 - val_loss: 0.8444 - val_accuracy: 0.9012\n",
            "Epoch 40/100\n",
            "200/200 - 1s - loss: 0.0018 - accuracy: 0.9995 - val_loss: 0.8770 - val_accuracy: 0.9001\n",
            "Epoch 41/100\n",
            "200/200 - 1s - loss: 2.6648e-04 - accuracy: 1.0000 - val_loss: 0.8953 - val_accuracy: 0.8988\n",
            "Epoch 42/100\n",
            "200/200 - 1s - loss: 0.0013 - accuracy: 0.9995 - val_loss: 0.7857 - val_accuracy: 0.9025\n",
            "Epoch 43/100\n",
            "200/200 - 1s - loss: 8.0698e-04 - accuracy: 0.9997 - val_loss: 0.9870 - val_accuracy: 0.8912\n",
            "Epoch 44/100\n",
            "200/200 - 1s - loss: 0.0020 - accuracy: 0.9994 - val_loss: 0.8966 - val_accuracy: 0.9005\n",
            "Epoch 45/100\n",
            "200/200 - 1s - loss: 0.0020 - accuracy: 0.9995 - val_loss: 0.8435 - val_accuracy: 0.9021\n",
            "Epoch 46/100\n",
            "200/200 - 1s - loss: 0.0018 - accuracy: 0.9993 - val_loss: 0.8479 - val_accuracy: 0.9016\n",
            "Epoch 47/100\n",
            "200/200 - 1s - loss: 0.0016 - accuracy: 0.9998 - val_loss: 0.8299 - val_accuracy: 0.8997\n",
            "Epoch 48/100\n",
            "200/200 - 1s - loss: 6.5710e-04 - accuracy: 0.9998 - val_loss: 0.9701 - val_accuracy: 0.8994\n",
            "Epoch 49/100\n",
            "200/200 - 1s - loss: 8.1608e-04 - accuracy: 0.9997 - val_loss: 1.0165 - val_accuracy: 0.9041\n",
            "Epoch 50/100\n",
            "200/200 - 1s - loss: 0.0024 - accuracy: 0.9993 - val_loss: 0.8126 - val_accuracy: 0.9005\n",
            "Epoch 51/100\n",
            "200/200 - 1s - loss: 9.0060e-04 - accuracy: 0.9998 - val_loss: 0.9854 - val_accuracy: 0.9048\n",
            "Epoch 52/100\n",
            "200/200 - 1s - loss: 4.8005e-04 - accuracy: 0.9998 - val_loss: 0.9449 - val_accuracy: 0.9023\n",
            "Epoch 53/100\n",
            "200/200 - 1s - loss: 1.8273e-04 - accuracy: 1.0000 - val_loss: 1.0144 - val_accuracy: 0.9021\n",
            "Epoch 54/100\n",
            "200/200 - 1s - loss: 9.1859e-05 - accuracy: 1.0000 - val_loss: 1.0252 - val_accuracy: 0.9025\n",
            "Epoch 55/100\n",
            "200/200 - 1s - loss: 7.4310e-04 - accuracy: 0.9997 - val_loss: 0.8540 - val_accuracy: 0.9003\n",
            "Epoch 56/100\n",
            "200/200 - 1s - loss: 0.0026 - accuracy: 0.9995 - val_loss: 0.7918 - val_accuracy: 0.9005\n",
            "Epoch 57/100\n",
            "200/200 - 1s - loss: 0.0012 - accuracy: 0.9996 - val_loss: 0.8727 - val_accuracy: 0.9034\n",
            "Epoch 58/100\n",
            "200/200 - 1s - loss: 0.0012 - accuracy: 0.9996 - val_loss: 0.7971 - val_accuracy: 0.9017\n",
            "Epoch 59/100\n",
            "200/200 - 1s - loss: 2.2873e-04 - accuracy: 1.0000 - val_loss: 0.8879 - val_accuracy: 0.9021\n",
            "Epoch 60/100\n",
            "200/200 - 1s - loss: 1.2290e-04 - accuracy: 1.0000 - val_loss: 0.9843 - val_accuracy: 0.8977\n",
            "Epoch 61/100\n",
            "200/200 - 1s - loss: 8.0164e-04 - accuracy: 0.9998 - val_loss: 0.9016 - val_accuracy: 0.9034\n",
            "Epoch 62/100\n",
            "200/200 - 1s - loss: 2.5298e-04 - accuracy: 1.0000 - val_loss: 1.0404 - val_accuracy: 0.8999\n",
            "Epoch 63/100\n",
            "200/200 - 1s - loss: 2.5166e-04 - accuracy: 0.9999 - val_loss: 1.0036 - val_accuracy: 0.8970\n",
            "Epoch 64/100\n",
            "200/200 - 1s - loss: 8.7705e-05 - accuracy: 1.0000 - val_loss: 1.0269 - val_accuracy: 0.9012\n",
            "Epoch 65/100\n",
            "200/200 - 1s - loss: 2.1046e-05 - accuracy: 1.0000 - val_loss: 1.0648 - val_accuracy: 0.9008\n",
            "Epoch 66/100\n",
            "200/200 - 1s - loss: 0.0013 - accuracy: 0.9997 - val_loss: 0.9224 - val_accuracy: 0.8985\n",
            "Epoch 67/100\n",
            "200/200 - 1s - loss: 0.0014 - accuracy: 0.9995 - val_loss: 0.8294 - val_accuracy: 0.9016\n",
            "Epoch 68/100\n",
            "200/200 - 1s - loss: 3.8769e-04 - accuracy: 0.9999 - val_loss: 0.8683 - val_accuracy: 0.9047\n",
            "Epoch 69/100\n",
            "200/200 - 1s - loss: 1.3532e-04 - accuracy: 1.0000 - val_loss: 0.9600 - val_accuracy: 0.9065\n",
            "Epoch 70/100\n",
            "200/200 - 1s - loss: 4.2419e-04 - accuracy: 0.9998 - val_loss: 0.8896 - val_accuracy: 0.9072\n",
            "Epoch 71/100\n",
            "200/200 - 1s - loss: 3.9806e-04 - accuracy: 0.9999 - val_loss: 0.9757 - val_accuracy: 0.9081\n",
            "Epoch 72/100\n",
            "200/200 - 1s - loss: 1.4801e-04 - accuracy: 1.0000 - val_loss: 0.9755 - val_accuracy: 0.9048\n",
            "Epoch 73/100\n",
            "200/200 - 1s - loss: 0.0021 - accuracy: 0.9993 - val_loss: 0.9071 - val_accuracy: 0.9056\n",
            "Epoch 74/100\n",
            "200/200 - 1s - loss: 0.0025 - accuracy: 0.9991 - val_loss: 0.7513 - val_accuracy: 0.9065\n",
            "Epoch 75/100\n",
            "200/200 - 1s - loss: 0.0018 - accuracy: 0.9995 - val_loss: 0.8234 - val_accuracy: 0.9034\n",
            "Epoch 76/100\n",
            "200/200 - 1s - loss: 3.8186e-04 - accuracy: 0.9998 - val_loss: 0.8499 - val_accuracy: 0.9025\n",
            "Epoch 77/100\n",
            "200/200 - 1s - loss: 1.2371e-04 - accuracy: 1.0000 - val_loss: 0.8794 - val_accuracy: 0.9059\n",
            "Epoch 78/100\n",
            "200/200 - 1s - loss: 3.3462e-05 - accuracy: 1.0000 - val_loss: 0.9158 - val_accuracy: 0.9048\n",
            "Epoch 79/100\n",
            "200/200 - 1s - loss: 5.1939e-05 - accuracy: 1.0000 - val_loss: 0.9393 - val_accuracy: 0.9050\n",
            "Epoch 80/100\n",
            "200/200 - 1s - loss: 3.3881e-05 - accuracy: 1.0000 - val_loss: 0.9674 - val_accuracy: 0.9043\n",
            "Epoch 81/100\n",
            "200/200 - 1s - loss: 7.4906e-04 - accuracy: 0.9999 - val_loss: 0.9315 - val_accuracy: 0.9032\n",
            "Epoch 82/100\n",
            "200/200 - 1s - loss: 1.3763e-04 - accuracy: 1.0000 - val_loss: 0.9850 - val_accuracy: 0.9025\n",
            "Epoch 83/100\n",
            "200/200 - 1s - loss: 9.7630e-04 - accuracy: 0.9997 - val_loss: 0.8387 - val_accuracy: 0.9056\n",
            "Epoch 84/100\n",
            "200/200 - 1s - loss: 4.6840e-04 - accuracy: 0.9998 - val_loss: 0.9111 - val_accuracy: 0.9038\n",
            "Epoch 85/100\n",
            "200/200 - 1s - loss: 1.7992e-04 - accuracy: 1.0000 - val_loss: 0.9100 - val_accuracy: 0.9038\n",
            "Epoch 86/100\n",
            "200/200 - 1s - loss: 4.5072e-05 - accuracy: 1.0000 - val_loss: 0.9682 - val_accuracy: 0.9038\n",
            "Epoch 87/100\n",
            "200/200 - 1s - loss: 0.0018 - accuracy: 0.9995 - val_loss: 0.7770 - val_accuracy: 0.9034\n",
            "Epoch 88/100\n",
            "200/200 - 1s - loss: 2.6892e-04 - accuracy: 1.0000 - val_loss: 0.9263 - val_accuracy: 0.9036\n",
            "Epoch 89/100\n",
            "200/200 - 1s - loss: 6.9594e-05 - accuracy: 1.0000 - val_loss: 0.9443 - val_accuracy: 0.9041\n",
            "Epoch 90/100\n",
            "200/200 - 1s - loss: 6.0112e-04 - accuracy: 0.9998 - val_loss: 0.9375 - val_accuracy: 0.9010\n",
            "Epoch 91/100\n",
            "200/200 - 1s - loss: 8.8291e-05 - accuracy: 1.0000 - val_loss: 0.9629 - val_accuracy: 0.9032\n",
            "Epoch 92/100\n",
            "200/200 - 1s - loss: 2.8182e-05 - accuracy: 1.0000 - val_loss: 0.9845 - val_accuracy: 0.9032\n",
            "Epoch 93/100\n",
            "200/200 - 1s - loss: 5.5057e-05 - accuracy: 1.0000 - val_loss: 0.9934 - val_accuracy: 0.9047\n",
            "Epoch 94/100\n",
            "200/200 - 1s - loss: 3.6987e-04 - accuracy: 0.9998 - val_loss: 0.8967 - val_accuracy: 0.9059\n",
            "Epoch 95/100\n",
            "200/200 - 1s - loss: 2.0727e-04 - accuracy: 0.9999 - val_loss: 1.0268 - val_accuracy: 0.9043\n",
            "Epoch 96/100\n",
            "200/200 - 1s - loss: 0.0011 - accuracy: 0.9996 - val_loss: 0.9264 - val_accuracy: 0.9010\n",
            "Epoch 97/100\n",
            "200/200 - 1s - loss: 2.6430e-04 - accuracy: 1.0000 - val_loss: 0.9751 - val_accuracy: 0.9036\n",
            "Epoch 98/100\n",
            "200/200 - 1s - loss: 2.3820e-05 - accuracy: 1.0000 - val_loss: 0.9943 - val_accuracy: 0.9041\n",
            "Epoch 99/100\n",
            "200/200 - 1s - loss: 3.8855e-05 - accuracy: 1.0000 - val_loss: 1.0281 - val_accuracy: 0.9028\n",
            "Epoch 100/100\n",
            "200/200 - 1s - loss: 2.5075e-05 - accuracy: 1.0000 - val_loss: 1.0362 - val_accuracy: 0.9048\n"
          ],
          "name": "stdout"
        }
      ]
    },
    {
      "cell_type": "code",
      "metadata": {
        "id": "KlKy8jXvJhIa"
      },
      "source": [
        ""
      ],
      "execution_count": null,
      "outputs": []
    }
  ]
}